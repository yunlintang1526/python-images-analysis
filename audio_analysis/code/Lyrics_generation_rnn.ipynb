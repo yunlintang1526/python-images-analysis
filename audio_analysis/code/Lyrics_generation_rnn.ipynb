{
 "cells": [
  {
   "cell_type": "markdown",
   "metadata": {},
   "source": [
    "## Install and import libraries"
   ]
  },
  {
   "cell_type": "code",
   "execution_count": 1,
   "metadata": {},
   "outputs": [
    {
     "name": "stdout",
     "output_type": "stream",
     "text": [
      "Requirement already satisfied: jieba in /home/yuz522/.local/lib/python3.7/site-packages (0.42.1)\r\n"
     ]
    }
   ],
   "source": [
    "# Install jieba for Chinese text segmentation \n",
    "!pip install jieba --user"
   ]
  },
  {
   "cell_type": "code",
   "execution_count": 39,
   "metadata": {},
   "outputs": [],
   "source": [
    "import os\n",
    "import jieba\n",
    "import numpy as np\n",
    "import tensorflow as tf\n",
    "import matplotlib.pyplot as plt\n",
    "import warnings\n",
    "tf.enable_eager_execution()\n",
    "warnings.filterwarnings('ignore')"
   ]
  },
  {
   "cell_type": "markdown",
   "metadata": {},
   "source": [
    "## Load and preprocess lyrics"
   ]
  },
  {
   "cell_type": "code",
   "execution_count": 2,
   "metadata": {},
   "outputs": [],
   "source": [
    "# Directory of lyrics\n",
    "data_dir = os.path.join(os.path.dirname(os.getcwd()), 'data/lyrics')"
   ]
  },
  {
   "cell_type": "code",
   "execution_count": 3,
   "metadata": {},
   "outputs": [],
   "source": [
    "# Read in lyrics\n",
    "text_all = ''\n",
    "for song in os.listdir(data_dir):\n",
    "    if song.endswith('.txt'):\n",
    "        text = open(os.path.join(data_dir, song), mode = 'rb').read().decode(encoding = \"utf-8\")\n",
    "        text_all += text"
   ]
  },
  {
   "cell_type": "code",
   "execution_count": 4,
   "metadata": {},
   "outputs": [
    {
     "name": "stderr",
     "output_type": "stream",
     "text": [
      "Building prefix dict from the default dictionary ...\n",
      "Dumping model to file cache /tmp/jieba.cache\n",
      "Loading model cost 1.058 seconds.\n",
      "Prefix dict has been built successfully.\n"
     ]
    }
   ],
   "source": [
    "# Use Jieba to segment lyrics into words\n",
    "text_all = jieba.lcut(text_all)"
   ]
  },
  {
   "cell_type": "code",
   "execution_count": 5,
   "metadata": {},
   "outputs": [
    {
     "name": "stdout",
     "output_type": "stream",
     "text": [
      "3476 unique words\n"
     ]
    }
   ],
   "source": [
    "# Save a unique words into vocab\n",
    "vocab = sorted(set(text_all))\n",
    "print ('{} unique words'.format(len(vocab)))"
   ]
  },
  {
   "cell_type": "code",
   "execution_count": 56,
   "metadata": {},
   "outputs": [],
   "source": [
    "# Build word to index mapping\n",
    "char2idx = {u:i for i, u in enumerate(vocab)}\n",
    "idx2char = np.array(vocab)\n",
    "\n",
    "text_as_int = np.array([char2idx[c] for c in text_all])"
   ]
  },
  {
   "cell_type": "code",
   "execution_count": 57,
   "metadata": {},
   "outputs": [],
   "source": [
    "# Slice lyrics data into sequences\n",
    "seq_length = 20\n",
    "examples_per_epoch = len(text_all) // seq_length\n",
    "\n",
    "char_dataset = tf.data.Dataset.from_tensor_slices(text_as_int)"
   ]
  },
  {
   "cell_type": "code",
   "execution_count": 58,
   "metadata": {},
   "outputs": [],
   "source": [
    "# Define inputs and outputs\n",
    "def split_input_target(chunk):\n",
    "    input_text = chunk[:-1]\n",
    "    target_text = chunk[1:]\n",
    "    return input_text, target_text\n",
    "\n",
    "sequences = char_dataset.batch(seq_length + 1, drop_remainder = True)\n",
    "dataset = sequences.map(split_input_target)"
   ]
  },
  {
   "cell_type": "code",
   "execution_count": 59,
   "metadata": {},
   "outputs": [],
   "source": [
    "# Shuffle the dataset\n",
    "BUFFER_SIZE = 10000\n",
    "dataset = dataset.shuffle(BUFFER_SIZE)"
   ]
  },
  {
   "cell_type": "code",
   "execution_count": 60,
   "metadata": {},
   "outputs": [],
   "source": [
    "# Split into training and validation dataset\n",
    "dataset_size = len(list(dataset))\n",
    "train_size = int(0.8 * dataset_size)\n",
    "valid_size = int(0.2 * dataset_size)\n",
    "\n",
    "train_dataset = dataset.take(train_size)\n",
    "valid_dataset = dataset.skip(train_size)"
   ]
  },
  {
   "cell_type": "code",
   "execution_count": 61,
   "metadata": {},
   "outputs": [],
   "source": [
    "# Define batch size and batch training and validation dataset\n",
    "BATCH_SIZE = 64\n",
    "steps_per_epoch = examples_per_epoch // BATCH_SIZE\n",
    "train_dataset = train_dataset.shuffle(BUFFER_SIZE).batch(BATCH_SIZE, drop_remainder = True)\n",
    "valid_dataset = valid_dataset.shuffle(BUFFER_SIZE).batch(BATCH_SIZE, drop_remainder = True)"
   ]
  },
  {
   "cell_type": "markdown",
   "metadata": {},
   "source": [
    "## Build models"
   ]
  },
  {
   "cell_type": "code",
   "execution_count": 62,
   "metadata": {},
   "outputs": [],
   "source": [
    "# Define model parameters\n",
    "vocab_size = len(vocab)\n",
    "embedding_dim = 300\n",
    "rnn_units = 1024\n",
    "lstm_units = 1024"
   ]
  },
  {
   "cell_type": "code",
   "execution_count": 63,
   "metadata": {},
   "outputs": [],
   "source": [
    "# Use GPU versions of RNN and LSTM layers \n",
    "rnn = tf.keras.layers.CuDNNGRU\n",
    "lstm = tf.keras.layers.CuDNNLSTM"
   ]
  },
  {
   "cell_type": "code",
   "execution_count": 64,
   "metadata": {},
   "outputs": [],
   "source": [
    "# Define LSTM model\n",
    "def build_model_lstm(vocab_size, embedding_dim, lstm_units, batch_size):\n",
    "    model = tf.keras.Sequential([\n",
    "    tf.keras.layers.Embedding(vocab_size, embedding_dim, \n",
    "        batch_input_shape = [batch_size, None]),\n",
    "    lstm(lstm_units,\n",
    "        return_sequences = True, \n",
    "        recurrent_initializer = 'glorot_uniform',\n",
    "        stateful = True),\n",
    "    lstm(lstm_units,\n",
    "        return_sequences = True, \n",
    "        recurrent_initializer = 'glorot_uniform',\n",
    "        stateful = True),\n",
    "    tf.keras.layers.Dense(vocab_size)\n",
    "    ])\n",
    "    return model"
   ]
  },
  {
   "cell_type": "code",
   "execution_count": 65,
   "metadata": {},
   "outputs": [],
   "source": [
    "# Define RNN model\n",
    "def build_model_rnn(vocab_size, embedding_dim, rnn_units, batch_size):\n",
    "    model = tf.keras.Sequential([\n",
    "    tf.keras.layers.Embedding(vocab_size, embedding_dim, \n",
    "        batch_input_shape = [batch_size, None]),\n",
    "    rnn(rnn_units,\n",
    "        return_sequences = True, \n",
    "        recurrent_initializer = 'glorot_uniform',\n",
    "        stateful = True),\n",
    "    rnn(rnn_units,\n",
    "        return_sequences = True, \n",
    "        recurrent_initializer = 'glorot_uniform',\n",
    "        stateful = True),\n",
    "    tf.keras.layers.Dense(vocab_size)\n",
    "    ])\n",
    "    return model"
   ]
  },
  {
   "cell_type": "code",
   "execution_count": 66,
   "metadata": {},
   "outputs": [],
   "source": [
    "# Build RNN model\n",
    "model_rnn = build_model_rnn(\n",
    "    vocab_size = len(vocab), \n",
    "    embedding_dim = embedding_dim, \n",
    "    rnn_units = rnn_units, \n",
    "    batch_size = BATCH_SIZE)"
   ]
  },
  {
   "cell_type": "code",
   "execution_count": 67,
   "metadata": {},
   "outputs": [],
   "source": [
    "# Build LSTM model\n",
    "model_lstm = build_model_lstm(\n",
    "    vocab_size = len(vocab),\n",
    "    embedding_dim = embedding_dim, \n",
    "    lstm_units = lstm_units,\n",
    "    batch_size = BATCH_SIZE)"
   ]
  },
  {
   "cell_type": "code",
   "execution_count": 68,
   "metadata": {},
   "outputs": [],
   "source": [
    "# Define loss function\n",
    "def loss(labels, logits):\n",
    "    return tf.keras.losses.sparse_categorical_crossentropy(labels, logits, from_logits = True)"
   ]
  },
  {
   "cell_type": "code",
   "execution_count": 69,
   "metadata": {},
   "outputs": [],
   "source": [
    "# Compile RNN model with loss and optimizer\n",
    "model_rnn.compile(\n",
    "    optimizer = tf.train.AdamOptimizer(),\n",
    "    loss = loss)"
   ]
  },
  {
   "cell_type": "code",
   "execution_count": 70,
   "metadata": {},
   "outputs": [],
   "source": [
    "# Compile LSTM model with loss and optimizer \n",
    "model_lstm.compile(\n",
    "    optimizer = tf.train.AdamOptimizer(),\n",
    "    loss = loss)"
   ]
  },
  {
   "cell_type": "code",
   "execution_count": 71,
   "metadata": {},
   "outputs": [],
   "source": [
    "# Checkpoints for RNN model\n",
    "checkpoint_dir_rnn = './Lyrics_training_rnn'\n",
    "\n",
    "checkpoint_prefix_rnn = os.path.join(checkpoint_dir_rnn, \"ckpt_{epoch}\")\n",
    "\n",
    "checkpoint_callback_rnn = tf.keras.callbacks.ModelCheckpoint(\n",
    "    filepath = checkpoint_prefix_rnn,\n",
    "    save_weights_only = True)"
   ]
  },
  {
   "cell_type": "code",
   "execution_count": 72,
   "metadata": {},
   "outputs": [],
   "source": [
    "# Checkpoints for LSTM model\n",
    "checkpoint_dir_lstm = './Lyrics_training_lstm'\n",
    "\n",
    "checkpoint_prefix_lstm = os.path.join(checkpoint_dir_lstm, \"ckpt_{epoch}\")\n",
    "\n",
    "checkpoint_callback_lstm = tf.keras.callbacks.ModelCheckpoint(\n",
    "    filepath = checkpoint_prefix_lstm,\n",
    "    save_weights_only = True)"
   ]
  },
  {
   "cell_type": "markdown",
   "metadata": {},
   "source": [
    "## Train models"
   ]
  },
  {
   "cell_type": "code",
   "execution_count": 73,
   "metadata": {},
   "outputs": [
    {
     "name": "stdout",
     "output_type": "stream",
     "text": [
      "Epoch 1/30\n",
      "WARNING:tensorflow:Unresolved object in checkpoint: (root).optimizer\n",
      "WARNING:tensorflow:Unresolved object in checkpoint: (root).optimizer.optimizer\n",
      "WARNING:tensorflow:Unresolved object in checkpoint: (root).optimizer.global_step\n",
      "WARNING:tensorflow:Unresolved object in checkpoint: (root).optimizer.optimizer.beta1_power\n",
      "WARNING:tensorflow:Unresolved object in checkpoint: (root).optimizer.optimizer.beta2_power\n",
      "WARNING:tensorflow:Unresolved object in checkpoint: (root).optimizer.optimizer's state 'm' for (root).layer_with_weights-0.embeddings\n",
      "WARNING:tensorflow:Unresolved object in checkpoint: (root).optimizer.optimizer's state 'm' for (root).layer_with_weights-1.kernel\n",
      "WARNING:tensorflow:Unresolved object in checkpoint: (root).optimizer.optimizer's state 'm' for (root).layer_with_weights-1.recurrent_kernel\n",
      "WARNING:tensorflow:Unresolved object in checkpoint: (root).optimizer.optimizer's state 'm' for (root).layer_with_weights-1.bias\n",
      "WARNING:tensorflow:Unresolved object in checkpoint: (root).optimizer.optimizer's state 'm' for (root).layer_with_weights-2.kernel\n",
      "WARNING:tensorflow:Unresolved object in checkpoint: (root).optimizer.optimizer's state 'm' for (root).layer_with_weights-2.recurrent_kernel\n",
      "WARNING:tensorflow:Unresolved object in checkpoint: (root).optimizer.optimizer's state 'm' for (root).layer_with_weights-2.bias\n",
      "WARNING:tensorflow:Unresolved object in checkpoint: (root).optimizer.optimizer's state 'm' for (root).layer_with_weights-3.kernel\n",
      "WARNING:tensorflow:Unresolved object in checkpoint: (root).optimizer.optimizer's state 'm' for (root).layer_with_weights-3.bias\n",
      "WARNING:tensorflow:Unresolved object in checkpoint: (root).optimizer.optimizer's state 'v' for (root).layer_with_weights-0.embeddings\n",
      "WARNING:tensorflow:Unresolved object in checkpoint: (root).optimizer.optimizer's state 'v' for (root).layer_with_weights-1.kernel\n",
      "WARNING:tensorflow:Unresolved object in checkpoint: (root).optimizer.optimizer's state 'v' for (root).layer_with_weights-1.recurrent_kernel\n",
      "WARNING:tensorflow:Unresolved object in checkpoint: (root).optimizer.optimizer's state 'v' for (root).layer_with_weights-1.bias\n",
      "WARNING:tensorflow:Unresolved object in checkpoint: (root).optimizer.optimizer's state 'v' for (root).layer_with_weights-2.kernel\n",
      "WARNING:tensorflow:Unresolved object in checkpoint: (root).optimizer.optimizer's state 'v' for (root).layer_with_weights-2.recurrent_kernel\n",
      "WARNING:tensorflow:Unresolved object in checkpoint: (root).optimizer.optimizer's state 'v' for (root).layer_with_weights-2.bias\n",
      "WARNING:tensorflow:Unresolved object in checkpoint: (root).optimizer.optimizer's state 'v' for (root).layer_with_weights-3.kernel\n",
      "WARNING:tensorflow:Unresolved object in checkpoint: (root).optimizer.optimizer's state 'v' for (root).layer_with_weights-3.bias\n",
      "WARNING:tensorflow:A checkpoint was restored (e.g. tf.train.Checkpoint.restore or tf.keras.Model.load_weights) but not all checkpointed values were used. See above for specific issues. Use expect_partial() on the load status object, e.g. tf.train.Checkpoint.restore(...).expect_partial(), to silence these warnings, or use assert_consumed() to make the check explicit. See https://www.tensorflow.org/alpha/guide/checkpoints#loading_mechanics for details.\n",
      "14/14 [==============================] - 3s 224ms/step - loss: 7.4448 - val_loss: 6.9262\n",
      "Epoch 2/30\n",
      "14/14 [==============================] - 1s 87ms/step - loss: 6.3607 - val_loss: 6.2267\n",
      "Epoch 3/30\n",
      "14/14 [==============================] - 1s 90ms/step - loss: 6.1394 - val_loss: 6.0256\n",
      "Epoch 4/30\n",
      "14/14 [==============================] - 1s 90ms/step - loss: 5.9974 - val_loss: 5.8308\n",
      "Epoch 5/30\n",
      "14/14 [==============================] - 1s 91ms/step - loss: 5.7844 - val_loss: 5.5659\n",
      "Epoch 6/30\n",
      "14/14 [==============================] - 1s 88ms/step - loss: 5.4933 - val_loss: 5.1941\n",
      "Epoch 7/30\n",
      "14/14 [==============================] - 1s 93ms/step - loss: 5.1190 - val_loss: 4.8176\n",
      "Epoch 8/30\n",
      "14/14 [==============================] - 1s 95ms/step - loss: 4.7353 - val_loss: 4.3091\n",
      "Epoch 9/30\n",
      "14/14 [==============================] - 1s 92ms/step - loss: 4.2745 - val_loss: 3.9105\n",
      "Epoch 10/30\n",
      "14/14 [==============================] - 1s 88ms/step - loss: 3.8631 - val_loss: 3.4499\n",
      "Epoch 11/30\n",
      "14/14 [==============================] - 1s 85ms/step - loss: 3.3958 - val_loss: 2.9602\n",
      "Epoch 12/30\n",
      "14/14 [==============================] - 1s 97ms/step - loss: 2.9060 - val_loss: 2.5203\n",
      "Epoch 13/30\n",
      "14/14 [==============================] - 1s 85ms/step - loss: 2.5092 - val_loss: 2.1269\n",
      "Epoch 14/30\n",
      "14/14 [==============================] - 1s 89ms/step - loss: 2.1848 - val_loss: 1.8540\n",
      "Epoch 15/30\n",
      "14/14 [==============================] - 1s 94ms/step - loss: 1.8566 - val_loss: 1.5576\n",
      "Epoch 16/30\n",
      "14/14 [==============================] - 1s 89ms/step - loss: 1.5870 - val_loss: 1.3408\n",
      "Epoch 17/30\n",
      "14/14 [==============================] - 1s 83ms/step - loss: 1.4145 - val_loss: 1.2039\n",
      "Epoch 18/30\n",
      "14/14 [==============================] - 1s 81ms/step - loss: 1.2105 - val_loss: 1.0433\n",
      "Epoch 19/30\n",
      "14/14 [==============================] - 1s 80ms/step - loss: 1.0867 - val_loss: 0.9242\n",
      "Epoch 20/30\n",
      "14/14 [==============================] - 1s 80ms/step - loss: 0.9617 - val_loss: 0.8101\n",
      "Epoch 21/30\n",
      "14/14 [==============================] - 1s 85ms/step - loss: 0.8704 - val_loss: 0.7465\n",
      "Epoch 22/30\n",
      "14/14 [==============================] - 1s 81ms/step - loss: 0.7829 - val_loss: 0.6548\n",
      "Epoch 23/30\n",
      "14/14 [==============================] - 1s 89ms/step - loss: 0.6957 - val_loss: 0.5879\n",
      "Epoch 24/30\n",
      "14/14 [==============================] - 1s 86ms/step - loss: 0.6659 - val_loss: 0.5657\n",
      "Epoch 25/30\n",
      "14/14 [==============================] - 1s 85ms/step - loss: 0.6225 - val_loss: 0.5299\n",
      "Epoch 26/30\n",
      "14/14 [==============================] - 1s 95ms/step - loss: 0.5765 - val_loss: 0.5038\n",
      "Epoch 27/30\n",
      "14/14 [==============================] - 1s 84ms/step - loss: 0.5439 - val_loss: 0.4552\n",
      "Epoch 28/30\n",
      "14/14 [==============================] - 1s 77ms/step - loss: 0.5076 - val_loss: 0.4603\n",
      "Epoch 29/30\n",
      "14/14 [==============================] - 1s 86ms/step - loss: 0.4953 - val_loss: 0.4191\n",
      "Epoch 30/30\n",
      "14/14 [==============================] - 1s 90ms/step - loss: 0.4632 - val_loss: 0.3969\n"
     ]
    }
   ],
   "source": [
    "# Train RNN model\n",
    "history = model_rnn.fit(train_dataset.repeat(), \n",
    "                    epochs = 30, \n",
    "                    steps_per_epoch = steps_per_epoch,\n",
    "                    validation_data = valid_dataset,\n",
    "                    callbacks = [checkpoint_callback_rnn]\n",
    "                    )"
   ]
  },
  {
   "cell_type": "code",
   "execution_count": 74,
   "metadata": {},
   "outputs": [
    {
     "data": {
      "image/png": "[encoded data removed]",
      "text/plain": [
       "<Figure size 432x288 with 1 Axes>"
      ]
     },
     "metadata": {
      "needs_background": "light"
     },
     "output_type": "display_data"
    }
   ],
   "source": [
    "# Plot training and validation loss of RNN\n",
    "plt.plot(history.history['loss'])\n",
    "plt.plot(history.history['val_loss'])\n",
    "plt.title('RNN Model Loss')\n",
    "plt.ylabel('loss')\n",
    "plt.xlabel('epoch')\n",
    "plt.legend(['train', 'validation'])\n",
    "plt.show()"
   ]
  },
  {
   "cell_type": "code",
   "execution_count": 75,
   "metadata": {},
   "outputs": [
    {
     "name": "stdout",
     "output_type": "stream",
     "text": [
      "Epoch 1/50\n",
      "14/14 [==============================] - 3s 235ms/step - loss: 6.7582 - val_loss: 6.4435\n",
      "Epoch 2/50\n",
      "14/14 [==============================] - 1s 96ms/step - loss: 6.1923 - val_loss: 6.1975\n",
      "Epoch 3/50\n",
      "14/14 [==============================] - 1s 94ms/step - loss: 6.1077 - val_loss: 6.0786\n",
      "Epoch 4/50\n",
      "14/14 [==============================] - 1s 107ms/step - loss: 6.0878 - val_loss: 6.0369\n",
      "Epoch 5/50\n",
      "14/14 [==============================] - 2s 114ms/step - loss: 6.0620 - val_loss: 5.9617\n",
      "Epoch 6/50\n",
      "14/14 [==============================] - 1s 93ms/step - loss: 5.8592 - val_loss: 5.7264\n",
      "Epoch 7/50\n",
      "14/14 [==============================] - 1s 100ms/step - loss: 5.6529 - val_loss: 5.5594\n",
      "Epoch 8/50\n",
      "14/14 [==============================] - 1s 107ms/step - loss: 5.4924 - val_loss: 5.3339\n",
      "Epoch 9/50\n",
      "14/14 [==============================] - 2s 116ms/step - loss: 5.2476 - val_loss: 5.1105\n",
      "Epoch 10/50\n",
      "14/14 [==============================] - 1s 99ms/step - loss: 5.0213 - val_loss: 4.8206\n",
      "Epoch 11/50\n",
      "14/14 [==============================] - 1s 100ms/step - loss: 4.7830 - val_loss: 4.5759\n",
      "Epoch 12/50\n",
      "14/14 [==============================] - 1s 100ms/step - loss: 4.5097 - val_loss: 4.2952\n",
      "Epoch 13/50\n",
      "14/14 [==============================] - 1s 91ms/step - loss: 4.2269 - val_loss: 4.0025\n",
      "Epoch 14/50\n",
      "14/14 [==============================] - 1s 102ms/step - loss: 4.0126 - val_loss: 3.7374\n",
      "Epoch 15/50\n",
      "14/14 [==============================] - 2s 111ms/step - loss: 3.7084 - val_loss: 3.4529\n",
      "Epoch 16/50\n",
      "14/14 [==============================] - 1s 105ms/step - loss: 3.4359 - val_loss: 3.1981\n",
      "Epoch 17/50\n",
      "14/14 [==============================] - 1s 103ms/step - loss: 3.2352 - val_loss: 2.9908\n",
      "Epoch 18/50\n",
      "14/14 [==============================] - 2s 107ms/step - loss: 2.9591 - val_loss: 2.7365\n",
      "Epoch 19/50\n",
      "14/14 [==============================] - 1s 92ms/step - loss: 2.7618 - val_loss: 2.5148\n",
      "Epoch 20/50\n",
      "14/14 [==============================] - 1s 97ms/step - loss: 2.5189 - val_loss: 2.3022\n",
      "Epoch 21/50\n",
      "14/14 [==============================] - 1s 100ms/step - loss: 2.3469 - val_loss: 2.1100\n",
      "Epoch 22/50\n",
      "14/14 [==============================] - 2s 115ms/step - loss: 2.1783 - val_loss: 1.9346\n",
      "Epoch 23/50\n",
      "14/14 [==============================] - 2s 110ms/step - loss: 1.9740 - val_loss: 1.7617\n",
      "Epoch 24/50\n",
      "14/14 [==============================] - 1s 105ms/step - loss: 1.8539 - val_loss: 1.6229\n",
      "Epoch 25/50\n",
      "14/14 [==============================] - 1s 103ms/step - loss: 1.7018 - val_loss: 1.5164\n",
      "Epoch 26/50\n",
      "14/14 [==============================] - 1s 103ms/step - loss: 1.5825 - val_loss: 1.4056\n",
      "Epoch 27/50\n",
      "14/14 [==============================] - 1s 99ms/step - loss: 1.4623 - val_loss: 1.3051\n",
      "Epoch 28/50\n",
      "14/14 [==============================] - 1s 103ms/step - loss: 1.3287 - val_loss: 1.2231\n",
      "Epoch 29/50\n",
      "14/14 [==============================] - 1s 102ms/step - loss: 1.2884 - val_loss: 1.1344\n",
      "Epoch 30/50\n",
      "14/14 [==============================] - 2s 116ms/step - loss: 1.1641 - val_loss: 1.0795\n",
      "Epoch 31/50\n",
      "14/14 [==============================] - 2s 110ms/step - loss: 1.1185 - val_loss: 1.0093\n",
      "Epoch 32/50\n",
      "14/14 [==============================] - 1s 107ms/step - loss: 1.0405 - val_loss: 0.9582\n",
      "Epoch 33/50\n",
      "14/14 [==============================] - 2s 108ms/step - loss: 0.9879 - val_loss: 0.8996\n",
      "Epoch 34/50\n",
      "14/14 [==============================] - 2s 109ms/step - loss: 0.9196 - val_loss: 0.8530\n",
      "Epoch 35/50\n",
      "14/14 [==============================] - 1s 104ms/step - loss: 0.8701 - val_loss: 0.8136\n",
      "Epoch 36/50\n",
      "14/14 [==============================] - 1s 106ms/step - loss: 0.8248 - val_loss: 0.7590\n",
      "Epoch 37/50\n",
      "14/14 [==============================] - 1s 106ms/step - loss: 0.7900 - val_loss: 0.7305\n",
      "Epoch 38/50\n",
      "14/14 [==============================] - 1s 103ms/step - loss: 0.7412 - val_loss: 0.6787\n",
      "Epoch 39/50\n",
      "14/14 [==============================] - 1s 102ms/step - loss: 0.7053 - val_loss: 0.6523\n",
      "Epoch 40/50\n",
      "14/14 [==============================] - 1s 104ms/step - loss: 0.6896 - val_loss: 0.6319\n",
      "Epoch 41/50\n",
      "14/14 [==============================] - 2s 112ms/step - loss: 0.6549 - val_loss: 0.6049\n",
      "Epoch 42/50\n",
      "14/14 [==============================] - 1s 104ms/step - loss: 0.6265 - val_loss: 0.5735\n",
      "Epoch 43/50\n",
      "14/14 [==============================] - 1s 106ms/step - loss: 0.6006 - val_loss: 0.5660\n",
      "Epoch 44/50\n",
      "14/14 [==============================] - 2s 117ms/step - loss: 0.5792 - val_loss: 0.5510\n",
      "Epoch 45/50\n",
      "14/14 [==============================] - 1s 104ms/step - loss: 0.5492 - val_loss: 0.5140\n",
      "Epoch 46/50\n",
      "14/14 [==============================] - 1s 97ms/step - loss: 0.5344 - val_loss: 0.5023\n",
      "Epoch 47/50\n",
      "14/14 [==============================] - 1s 94ms/step - loss: 0.5250 - val_loss: 0.4894\n",
      "Epoch 48/50\n",
      "14/14 [==============================] - 1s 101ms/step - loss: 0.5104 - val_loss: 0.4699\n",
      "Epoch 49/50\n",
      "14/14 [==============================] - 1s 96ms/step - loss: 0.5020 - val_loss: 0.4677\n",
      "Epoch 50/50\n",
      "14/14 [==============================] - 1s 102ms/step - loss: 0.4804 - val_loss: 0.4622\n"
     ]
    }
   ],
   "source": [
    "# Train LSTM model\n",
    "history = model_lstm.fit(train_dataset.repeat(), \n",
    "                    epochs = 50, \n",
    "                    steps_per_epoch = steps_per_epoch, \n",
    "                    validation_data = valid_dataset,\n",
    "                    callbacks = [checkpoint_callback_lstm],\n",
    "                    )"
   ]
  },
  {
   "cell_type": "code",
   "execution_count": 76,
   "metadata": {},
   "outputs": [
    {
     "data": {
      "image/png": "[encoded data removed]",
      "text/plain": [
       "<Figure size 432x288 with 1 Axes>"
      ]
     },
     "metadata": {
      "needs_background": "light"
     },
     "output_type": "display_data"
    }
   ],
   "source": [
    "# Plot training and validation loss of LSTM\n",
    "plt.plot(history.history['loss'])\n",
    "plt.plot(history.history['val_loss'])\n",
    "plt.title('LSTM Model Loss')\n",
    "plt.ylabel('loss')\n",
    "plt.xlabel('epoch')\n",
    "plt.legend(['train', 'validation'])\n",
    "plt.show()"
   ]
  },
  {
   "cell_type": "code",
   "execution_count": 77,
   "metadata": {},
   "outputs": [],
   "source": [
    "# Build RNN model using weights in the last checkpoint\n",
    "model_rnn = build_model_rnn(vocab_size, embedding_dim, rnn_units, batch_size = 1)\n",
    "model_rnn.load_weights(os.path.join(checkpoint_dir_rnn, 'ckpt_30'))\n",
    "model_rnn.build(tf.TensorShape([1, None]))"
   ]
  },
  {
   "cell_type": "code",
   "execution_count": 78,
   "metadata": {},
   "outputs": [],
   "source": [
    "# Build LSTM model using weights in the last checkpoint\n",
    "model_lstm = build_model_lstm(vocab_size, embedding_dim, lstm_units, batch_size = 1)\n",
    "model_lstm.load_weights(os.path.join(checkpoint_dir_lstm, 'ckpt_50'))\n",
    "model_lstm.build(tf.TensorShape([1, None]))"
   ]
  },
  {
   "cell_type": "code",
   "execution_count": 79,
   "metadata": {},
   "outputs": [
    {
     "name": "stdout",
     "output_type": "stream",
     "text": [
      "Model: \"sequential_6\"\n",
      "_________________________________________________________________\n",
      "Layer (type)                 Output Shape              Param #   \n",
      "=================================================================\n",
      "embedding_6 (Embedding)      (1, None, 300)            1042800   \n",
      "_________________________________________________________________\n",
      "cu_dnngru_6 (CuDNNGRU)       (1, None, 1024)           4073472   \n",
      "_________________________________________________________________\n",
      "cu_dnngru_7 (CuDNNGRU)       (1, None, 1024)           6297600   \n",
      "_________________________________________________________________\n",
      "dense_6 (Dense)              (1, None, 3476)           3562900   \n",
      "=================================================================\n",
      "Total params: 14,976,772\n",
      "Trainable params: 14,976,772\n",
      "Non-trainable params: 0\n",
      "_________________________________________________________________\n"
     ]
    }
   ],
   "source": [
    "# RNN model summmary\n",
    "model_rnn.summary()"
   ]
  },
  {
   "cell_type": "code",
   "execution_count": 80,
   "metadata": {},
   "outputs": [
    {
     "name": "stdout",
     "output_type": "stream",
     "text": [
      "Model: \"sequential_7\"\n",
      "_________________________________________________________________\n",
      "Layer (type)                 Output Shape              Param #   \n",
      "=================================================================\n",
      "embedding_7 (Embedding)      (1, None, 300)            1042800   \n",
      "_________________________________________________________________\n",
      "cu_dnnlstm_6 (CuDNNLSTM)     (1, None, 1024)           5431296   \n",
      "_________________________________________________________________\n",
      "cu_dnnlstm_7 (CuDNNLSTM)     (1, None, 1024)           8396800   \n",
      "_________________________________________________________________\n",
      "dense_7 (Dense)              (1, None, 3476)           3562900   \n",
      "=================================================================\n",
      "Total params: 18,433,796\n",
      "Trainable params: 18,433,796\n",
      "Non-trainable params: 0\n",
      "_________________________________________________________________\n"
     ]
    }
   ],
   "source": [
    "# LSTM model summary\n",
    "model_lstm.summary()"
   ]
  },
  {
   "cell_type": "markdown",
   "metadata": {},
   "source": [
    "## Generate lyrics"
   ]
  },
  {
   "cell_type": "code",
   "execution_count": 81,
   "metadata": {},
   "outputs": [],
   "source": [
    "# Generating function\n",
    "def generate_text(model, start_string, temperature = 1, num_generate = 100):\n",
    "    \n",
    "    input_eval = [char2idx[s] for s in start_string]\n",
    "    input_eval = tf.expand_dims(input_eval, 0)\n",
    "\n",
    "    text_generated = []\n",
    "\n",
    "    model.reset_states()\n",
    "    for i in range(num_generate):\n",
    "        predictions = model(input_eval)\n",
    "        predictions = tf.squeeze(predictions, 0)\n",
    "        predictions = predictions / temperature\n",
    "        predicted_id = tf.multinomial(predictions, num_samples=1)[-1, 0].numpy()\n",
    "        input_eval = tf.expand_dims([predicted_id], 0)\n",
    "        text_generated.append(idx2char[predicted_id])\n",
    "\n",
    "    return (start_string + ''.join(text_generated))"
   ]
  },
  {
   "cell_type": "code",
   "execution_count": 82,
   "metadata": {},
   "outputs": [],
   "source": [
    "# Directory of results\n",
    "result_dir = os.path.join(os.path.dirname(os.getcwd()), 'results/lyrics') "
   ]
  },
  {
   "cell_type": "code",
   "execution_count": 94,
   "metadata": {},
   "outputs": [
    {
     "name": "stdout",
     "output_type": "stream",
     "text": [
      "\n",
      "找到玩笑說明是樱花最山難\n",
      "讓我變得不一样\n",
      "我喜欢冰河墨\n",
      "若佛说\n",
      "放下执着\n",
      "我停拉你的 you 有答案\n",
      "除了～\n",
      "回到尊重烈酒\n",
      "那時未 那再不同 在38度6\n",
      "似到一個人\n",
      "給你拯救的體溫　總會再捐給某人\n",
      "一吻便救歲怎么開顏\n",
      "戰：\n",
      "第一千零一遍\n",
      "青石板上的月光照進這山城\n",
      "我一路的跟 妳輪迴聲 我對妳用情極深\n",
      "我有一個一年\n",
      "都尊重沒有傷悲\n",
      "無怨無悔\n",
      "它不等你是否\n",
      "我怎會把死守的寂寞 放任了\n",
      "愛我你\n",
      "在我的右邊是你曾經喜歡的玩具\n",
      "可當我站起身白了一千遍\n",
      "沒我遠離寂寞 喔... Yeah...\n",
      "气温 爬升到无法了再 雲吃走到人间\n",
      "我就是你听多\n",
      "不是我想轉進你的瘋癲\n",
      "\n"
     ]
    }
   ],
   "source": [
    "# Genearte using RNN model\n",
    "lyrics_rnn = generate_text(model_rnn, u'\\n', temperature = 1.1, num_generate = 200)\n",
    "print(lyrics_rnn)\n",
    "with open(os.path.join(result_dir, 'lyrics_rnn.txt'), 'w') as f:\n",
    "    f.write(lyrics_rnn)"
   ]
  },
  {
   "cell_type": "code",
   "execution_count": 93,
   "metadata": {},
   "outputs": [
    {
     "name": "stdout",
     "output_type": "stream",
     "text": [
      "\n",
      "搞碗就著炸雞 而此時此刻你在哪裡\n",
      "雖然或許你在全部都是你\n",
      "心裡想的想的 全部都是你\n",
      "全部都是你 全部都是你\n",
      "Baby你就是 我的 命中註定\n",
      "你的酒館對我打了烊\n",
      "恋爱那條頭\n",
      "平平淡淡是來\n",
      "來告訴你等太久 不讓你難受\n",
      "執迷與我遇上自己 我在有身旁\n",
      "數到被才美麗\n",
      "風吹偷說的餘生\n",
      "在我要上 从我的世界路过\n",
      "我最也停止懂\n",
      "我们还要让來尋找你\n",
      "留下的只有帶著你味道的一封信\n",
      "\n",
      "不是在還笑在房間裡尋找你\n",
      "留下的只有帶著你味道的一封信\n",
      "還會是我相信\n",
      "\n",
      "Because you have to believe\n",
      "\n",
      "我最给你就是 过去了\n",
      "心裡 恨的 我我好 总是遍 我後\n",
      "放下讓我的煞星\n",
      "\n",
      "我要上有來你的东西\n",
      "\n"
     ]
    }
   ],
   "source": [
    "# Generate using LSTM model\n",
    "lyrics_lstm = generate_text(model_lstm, u'\\n', temperature = 1.1, num_generate = 200)\n",
    "print(lyrics_lstm)\n",
    "with open(os.path.join(result_dir, 'lyrics_lstm.txt'), \"w\") as f:\n",
    "    f.write(lyrics_lstm)"
   ]
  },
  {
   "cell_type": "markdown",
   "metadata": {},
   "source": [
    "## Reference\n",
    "\n",
    "- https://github.com/fxsjy/jieba\n",
    "- https://github.com/roberttwomey/dsc160-code/blob/master/examples/text-generation-rnn.ipynb\n",
    "- https://www.tensorflow.org/api_docs/python/tf/compat/v1/keras/layers/CuDNNGRU\n",
    "- https://www.tensorflow.org/api_docs/python/tf/compat/v1/keras/layers/CuDNNLSTM"
   ]
  }
 ],
 "metadata": {
  "kernelspec": {
   "display_name": "Python 3",
   "language": "python",
   "name": "python3"
  },
  "language_info": {
   "codemirror_mode": {
    "name": "ipython",
    "version": 3
   },
   "file_extension": ".py",
   "mimetype": "text/x-python",
   "name": "python",
   "nbconvert_exporter": "python",
   "pygments_lexer": "ipython3",
   "version": "3.7.3"
  }
 },
 "nbformat": 4,
 "nbformat_minor": 2
}
