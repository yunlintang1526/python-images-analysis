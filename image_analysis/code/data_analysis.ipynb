{
 "cells": [
  {
   "cell_type": "markdown",
   "metadata": {},
   "source": [
    "## 1.Setup"
   ]
  },
  {
   "cell_type": "code",
   "execution_count": 12,
   "metadata": {},
   "outputs": [],
   "source": [
    "%matplotlib inline\n",
    "import numpy as np\n",
    "import matplotlib.pyplot as plt\n",
    "from skimage import io\n",
    "import skimage\n",
    "import os\n",
    "from skimage.color import rgb2hsv\n",
    "from skimage.color import rgb2gray\n",
    "import scipy.misc\n",
    "import imageio\n",
    "import pandas as pd\n",
    "from skimage.filters.rank import entropy\n",
    "from skimage.morphology import disk\n",
    "from skimage import img_as_ubyte\n",
    "import cv2\n",
    "from scipy import ndimage\n",
    "from sklearn.utils import resample"
   ]
  },
  {
   "cell_type": "code",
   "execution_count": 2,
   "metadata": {},
   "outputs": [],
   "source": [
    "#data path\n",
    "DISNEY_DIR = \"images_disney\"\n",
    "HAYAO_DIR = \"images_hayao\""
   ]
  },
  {
   "cell_type": "markdown",
   "metadata": {},
   "source": [
    "## 2.Feature extraction"
   ]
  },
  {
   "cell_type": "code",
   "execution_count": 3,
   "metadata": {},
   "outputs": [],
   "source": [
    "def calc_stats(fname):\n",
    "    img =  io.imread(fname)\n",
    "    denoi_img= cv2.fastNlMeansDenoisingColored(img) # get the denoised image\n",
    "    hsv_img = rgb2hsv(denoi_img) # get the hsv image\n",
    "    hue_img = hsv_img[:, :, 0] #get the hues\n",
    "    saturation_img = hsv_img[:,:, 1] #get the saturations\n",
    "    value_img = hsv_img[:, :, 2] #get the values\n",
    "    ent_img = entropy(rgb2gray(denoi_img), disk(5)) #get the entropy\n",
    "    sobel_x = ndimage.sobel(value_img, axis=0, mode='constant')\n",
    "    sobel_y = ndimage.sobel(value_img, axis=1, mode='constant')\n",
    "    edge_image = np.hypot(sobel_x, sobel_y) # get the edges\n",
    "    return [img.shape[1],img.shape[0],np.mean(hue_img),np.mean(saturation_img),np.mean(value_img),np.mean(ent_img),np.sum(edge_image)/edge_image.size]"
   ]
  },
  {
   "cell_type": "code",
   "execution_count": 4,
   "metadata": {},
   "outputs": [
    {
     "name": "stderr",
     "output_type": "stream",
     "text": [
      "C:\\Users\\27810\\Anaconda3\\lib\\site-packages\\skimage\\util\\dtype.py:135: UserWarning: Possible precision loss when converting from float64 to uint8\n",
      "  .format(dtypeobj_in, dtypeobj_out))\n"
     ]
    },
    {
     "data": {
      "text/html": [
       "<div>\n",
       "<style scoped>\n",
       "    .dataframe tbody tr th:only-of-type {\n",
       "        vertical-align: middle;\n",
       "    }\n",
       "\n",
       "    .dataframe tbody tr th {\n",
       "        vertical-align: top;\n",
       "    }\n",
       "\n",
       "    .dataframe thead th {\n",
       "        text-align: right;\n",
       "    }\n",
       "</style>\n",
       "<table border=\"1\" class=\"dataframe\">\n",
       "  <thead>\n",
       "    <tr style=\"text-align: right;\">\n",
       "      <th></th>\n",
       "      <th>width</th>\n",
       "      <th>height</th>\n",
       "      <th>mean_hue</th>\n",
       "      <th>mean_saturation</th>\n",
       "      <th>mean_value</th>\n",
       "      <th>mean_entropy</th>\n",
       "      <th>edge_sum</th>\n",
       "    </tr>\n",
       "  </thead>\n",
       "  <tbody>\n",
       "    <tr>\n",
       "      <th>0</th>\n",
       "      <td>67</td>\n",
       "      <td>98</td>\n",
       "      <td>0.272307</td>\n",
       "      <td>0.148943</td>\n",
       "      <td>0.831144</td>\n",
       "      <td>3.778824</td>\n",
       "      <td>0.819642</td>\n",
       "    </tr>\n",
       "    <tr>\n",
       "      <th>1</th>\n",
       "      <td>99</td>\n",
       "      <td>99</td>\n",
       "      <td>0.346913</td>\n",
       "      <td>0.500670</td>\n",
       "      <td>0.275656</td>\n",
       "      <td>4.424552</td>\n",
       "      <td>0.585586</td>\n",
       "    </tr>\n",
       "    <tr>\n",
       "      <th>2</th>\n",
       "      <td>99</td>\n",
       "      <td>99</td>\n",
       "      <td>0.453854</td>\n",
       "      <td>0.168975</td>\n",
       "      <td>0.484728</td>\n",
       "      <td>4.181699</td>\n",
       "      <td>0.481131</td>\n",
       "    </tr>\n",
       "    <tr>\n",
       "      <th>3</th>\n",
       "      <td>99</td>\n",
       "      <td>99</td>\n",
       "      <td>0.351184</td>\n",
       "      <td>0.669260</td>\n",
       "      <td>0.497502</td>\n",
       "      <td>4.214874</td>\n",
       "      <td>0.554411</td>\n",
       "    </tr>\n",
       "    <tr>\n",
       "      <th>4</th>\n",
       "      <td>99</td>\n",
       "      <td>99</td>\n",
       "      <td>0.136235</td>\n",
       "      <td>0.926444</td>\n",
       "      <td>0.331088</td>\n",
       "      <td>3.405405</td>\n",
       "      <td>0.365691</td>\n",
       "    </tr>\n",
       "  </tbody>\n",
       "</table>\n",
       "</div>"
      ],
      "text/plain": [
       "   width  height  mean_hue  mean_saturation  mean_value  mean_entropy  \\\n",
       "0     67      98  0.272307         0.148943    0.831144      3.778824   \n",
       "1     99      99  0.346913         0.500670    0.275656      4.424552   \n",
       "2     99      99  0.453854         0.168975    0.484728      4.181699   \n",
       "3     99      99  0.351184         0.669260    0.497502      4.214874   \n",
       "4     99      99  0.136235         0.926444    0.331088      3.405405   \n",
       "\n",
       "   edge_sum  \n",
       "0  0.819642  \n",
       "1  0.585586  \n",
       "2  0.481131  \n",
       "3  0.554411  \n",
       "4  0.365691  "
      ]
     },
     "execution_count": 4,
     "metadata": {},
     "output_type": "execute_result"
    }
   ],
   "source": [
    "# Read the images and extract their width, height, mean_hue, mean_saturation, mean_value, mean_entropy and sum of edges\n",
    "files = os.listdir(DISNEY_DIR)\n",
    "stats = []\n",
    "for fname in files:\n",
    "    if 'jpg' in fname:\n",
    "        stats.append(calc_stats(os.path.join(DISNEY_DIR , fname)))\n",
    "    else:\n",
    "        pass\n",
    "# make a dataframe and save it into a csv file\n",
    "disney_df = pd.DataFrame(stats)\n",
    "disney_df.columns = ['width','height','mean_hue','mean_saturation','mean_value','mean_entropy','edge_sum']\n",
    "disney_df.to_csv('disney_pics.csv')\n",
    "disney_df.head()"
   ]
  },
  {
   "cell_type": "code",
   "execution_count": 5,
   "metadata": {},
   "outputs": [
    {
     "data": {
      "text/html": [
       "<div>\n",
       "<style scoped>\n",
       "    .dataframe tbody tr th:only-of-type {\n",
       "        vertical-align: middle;\n",
       "    }\n",
       "\n",
       "    .dataframe tbody tr th {\n",
       "        vertical-align: top;\n",
       "    }\n",
       "\n",
       "    .dataframe thead th {\n",
       "        text-align: right;\n",
       "    }\n",
       "</style>\n",
       "<table border=\"1\" class=\"dataframe\">\n",
       "  <thead>\n",
       "    <tr style=\"text-align: right;\">\n",
       "      <th></th>\n",
       "      <th>width</th>\n",
       "      <th>height</th>\n",
       "      <th>mean_hue</th>\n",
       "      <th>mean_saturation</th>\n",
       "      <th>mean_value</th>\n",
       "      <th>mean_entropy</th>\n",
       "      <th>edge_sum</th>\n",
       "    </tr>\n",
       "  </thead>\n",
       "  <tbody>\n",
       "    <tr>\n",
       "      <th>0</th>\n",
       "      <td>67</td>\n",
       "      <td>98</td>\n",
       "      <td>0.281277</td>\n",
       "      <td>0.530815</td>\n",
       "      <td>0.231668</td>\n",
       "      <td>3.895495</td>\n",
       "      <td>0.583236</td>\n",
       "    </tr>\n",
       "    <tr>\n",
       "      <th>1</th>\n",
       "      <td>99</td>\n",
       "      <td>99</td>\n",
       "      <td>0.273528</td>\n",
       "      <td>0.405424</td>\n",
       "      <td>0.722306</td>\n",
       "      <td>4.257138</td>\n",
       "      <td>0.662596</td>\n",
       "    </tr>\n",
       "    <tr>\n",
       "      <th>2</th>\n",
       "      <td>147</td>\n",
       "      <td>100</td>\n",
       "      <td>0.600145</td>\n",
       "      <td>0.325997</td>\n",
       "      <td>0.711840</td>\n",
       "      <td>3.021263</td>\n",
       "      <td>0.270850</td>\n",
       "    </tr>\n",
       "    <tr>\n",
       "      <th>3</th>\n",
       "      <td>147</td>\n",
       "      <td>100</td>\n",
       "      <td>0.507668</td>\n",
       "      <td>0.685993</td>\n",
       "      <td>0.552678</td>\n",
       "      <td>3.737993</td>\n",
       "      <td>0.201171</td>\n",
       "    </tr>\n",
       "    <tr>\n",
       "      <th>4</th>\n",
       "      <td>147</td>\n",
       "      <td>100</td>\n",
       "      <td>0.154216</td>\n",
       "      <td>0.728086</td>\n",
       "      <td>0.574216</td>\n",
       "      <td>4.672342</td>\n",
       "      <td>0.498490</td>\n",
       "    </tr>\n",
       "  </tbody>\n",
       "</table>\n",
       "</div>"
      ],
      "text/plain": [
       "   width  height  mean_hue  mean_saturation  mean_value  mean_entropy  \\\n",
       "0     67      98  0.281277         0.530815    0.231668      3.895495   \n",
       "1     99      99  0.273528         0.405424    0.722306      4.257138   \n",
       "2    147     100  0.600145         0.325997    0.711840      3.021263   \n",
       "3    147     100  0.507668         0.685993    0.552678      3.737993   \n",
       "4    147     100  0.154216         0.728086    0.574216      4.672342   \n",
       "\n",
       "   edge_sum  \n",
       "0  0.583236  \n",
       "1  0.662596  \n",
       "2  0.270850  \n",
       "3  0.201171  \n",
       "4  0.498490  "
      ]
     },
     "execution_count": 5,
     "metadata": {},
     "output_type": "execute_result"
    }
   ],
   "source": [
    "# We do the same for Hayao images as what we do for Disney images\n",
    "files = os.listdir(HAYAO_DIR)\n",
    "stats = []\n",
    "for fname in files:\n",
    "    if 'jpg' in fname:\n",
    "        stats.append(calc_stats(os.path.join(HAYAO_DIR , fname)))\n",
    "    else:\n",
    "        pass\n",
    "hayao_df = pd.DataFrame(stats)\n",
    "hayao_df.columns = ['width','height','mean_hue','mean_saturation','mean_value','mean_entropy','edge_sum']\n",
    "hayao_df.to_csv('hayao_pics.csv')\n",
    "hayao_df.head()"
   ]
  },
  {
   "cell_type": "markdown",
   "metadata": {},
   "source": [
    "## 3.Ploting the features"
   ]
  },
  {
   "cell_type": "code",
   "execution_count": 42,
   "metadata": {},
   "outputs": [],
   "source": [
    "# We will do a bootstrap to test if our features of two different groups of data differ\n",
    "def bootstrap(values):\n",
    "    # do a 1000 times bootstraps and return the (lower bound of CI, mean, upper bound of CI)\n",
    "    n_iterations = 1000\n",
    "    n_size = int(len(values) * 0.50)\n",
    "    # bootstrap\n",
    "    stats = list()\n",
    "    for i in range(n_iterations):\n",
    "        sample = resample(values, n_samples=n_size)\n",
    "        stats.append(np.mean(sample))\n",
    "    alpha = 0.95\n",
    "    p = ((1.0-alpha)/2.0) * 100\n",
    "    lower =np.percentile(stats, p)\n",
    "    p = (alpha+((1.0-alpha)/2.0)) * 100\n",
    "    upper = np.percentile(stats, p)\n",
    "    return (lower, np.mean(stats), upper)"
   ]
  },
  {
   "cell_type": "markdown",
   "metadata": {},
   "source": [
    "### 3.1 Size"
   ]
  },
  {
   "cell_type": "code",
   "execution_count": 6,
   "metadata": {},
   "outputs": [
    {
     "data": {
      "text/plain": [
       "<matplotlib.axes._subplots.AxesSubplot at 0x1ab53fcc710>"
      ]
     },
     "execution_count": 6,
     "metadata": {},
     "output_type": "execute_result"
    },
    {
     "data": {
      "image/png": "[encoded data removed]",
      "text/plain": [
       "<Figure size 432x288 with 1 Axes>"
      ]
     },
     "metadata": {
      "needs_background": "light"
     },
     "output_type": "display_data"
    }
   ],
   "source": [
    "disney_df.apply(lambda x: x[1]*x[2],axis = 1).hist(color = 'pink', range = (0,100))"
   ]
  },
  {
   "cell_type": "code",
   "execution_count": 7,
   "metadata": {},
   "outputs": [
    {
     "data": {
      "text/plain": [
       "<matplotlib.axes._subplots.AxesSubplot at 0x1ab540c8470>"
      ]
     },
     "execution_count": 7,
     "metadata": {},
     "output_type": "execute_result"
    },
    {
     "data": {
      "image/png": "[encoded data removed]",
      "text/plain": [
       "<Figure size 432x288 with 1 Axes>"
      ]
     },
     "metadata": {
      "needs_background": "light"
     },
     "output_type": "display_data"
    }
   ],
   "source": [
    "hayao_df.apply(lambda x: x[1]*x[2],axis = 1).hist(range = (0,100))"
   ]
  },
  {
   "cell_type": "markdown",
   "metadata": {},
   "source": [
    "By comparing the histogram of the two datasets' size, we know that the images of these two different groups are roughly within the same range: 0-100. So the size of the images won't affect our prediction model we are building."
   ]
  },
  {
   "cell_type": "markdown",
   "metadata": {},
   "source": [
    "### 3.2 Hue"
   ]
  },
  {
   "cell_type": "code",
   "execution_count": 9,
   "metadata": {},
   "outputs": [
    {
     "data": {
      "text/plain": [
       "<matplotlib.axes._subplots.AxesSubplot at 0x1ab54147eb8>"
      ]
     },
     "execution_count": 9,
     "metadata": {},
     "output_type": "execute_result"
    },
    {
     "data": {
      "image/png": "[encoded data removed]",
      "text/plain": [
       "<Figure size 432x288 with 1 Axes>"
      ]
     },
     "metadata": {
      "needs_background": "light"
     },
     "output_type": "display_data"
    }
   ],
   "source": [
    "disney_df.mean_hue.hist(range = (0,1),color = 'pink')"
   ]
  },
  {
   "cell_type": "code",
   "execution_count": 11,
   "metadata": {},
   "outputs": [
    {
     "data": {
      "text/plain": [
       "<matplotlib.axes._subplots.AxesSubplot at 0x1ab5425a278>"
      ]
     },
     "execution_count": 11,
     "metadata": {},
     "output_type": "execute_result"
    },
    {
     "data": {
      "image/png": "[encoded data removed]",
      "text/plain": [
       "<Figure size 432x288 with 1 Axes>"
      ]
     },
     "metadata": {
      "needs_background": "light"
     },
     "output_type": "display_data"
    }
   ],
   "source": [
    "hayao_df.mean_hue.hist(range=(0,1))"
   ]
  },
  {
   "cell_type": "code",
   "execution_count": 24,
   "metadata": {},
   "outputs": [
    {
     "data": {
      "text/plain": [
       "(0.3362422115799134, 0.36244843448901165, 0.3904269745772894)"
      ]
     },
     "execution_count": 24,
     "metadata": {},
     "output_type": "execute_result"
    }
   ],
   "source": [
    "bootstrap(disney_df.mean_hue)"
   ]
  },
  {
   "cell_type": "code",
   "execution_count": 23,
   "metadata": {},
   "outputs": [
    {
     "data": {
      "text/plain": [
       "(0.3404681955944216, 0.3699101708554919, 0.3964980647930884)"
      ]
     },
     "execution_count": 23,
     "metadata": {},
     "output_type": "execute_result"
    }
   ],
   "source": [
    "bootstrap(hayao_df.mean_hue)"
   ]
  },
  {
   "cell_type": "markdown",
   "metadata": {},
   "source": [
    "Dayao's pictures' mean hue is similar to Disney Studio's. Disney's pictures' mean hue are slightly smaller, but it's not significant"
   ]
  },
  {
   "cell_type": "markdown",
   "metadata": {},
   "source": [
    "### 3.3 Saturation"
   ]
  },
  {
   "cell_type": "code",
   "execution_count": 28,
   "metadata": {},
   "outputs": [
    {
     "data": {
      "text/plain": [
       "<matplotlib.axes._subplots.AxesSubplot at 0x1ab548b86a0>"
      ]
     },
     "execution_count": 28,
     "metadata": {},
     "output_type": "execute_result"
    },
    {
     "data": {
      "image/png": "[encoded data removed]",
      "text/plain": [
       "<Figure size 432x288 with 1 Axes>"
      ]
     },
     "metadata": {
      "needs_background": "light"
     },
     "output_type": "display_data"
    }
   ],
   "source": [
    "disney_df.mean_saturation.hist(range = (0,1), density = True, color = 'pink')"
   ]
  },
  {
   "cell_type": "code",
   "execution_count": 30,
   "metadata": {},
   "outputs": [
    {
     "data": {
      "text/plain": [
       "<matplotlib.axes._subplots.AxesSubplot at 0x1ab54915978>"
      ]
     },
     "execution_count": 30,
     "metadata": {},
     "output_type": "execute_result"
    },
    {
     "data": {
      "image/png": "[encoded data removed]",
      "text/plain": [
       "<Figure size 432x288 with 1 Axes>"
      ]
     },
     "metadata": {
      "needs_background": "light"
     },
     "output_type": "display_data"
    }
   ],
   "source": [
    "hayao_df.mean_saturation.hist(range = (0,1),density = True)"
   ]
  },
  {
   "cell_type": "code",
   "execution_count": 31,
   "metadata": {},
   "outputs": [
    {
     "data": {
      "text/plain": [
       "(0.4148868285858349, 0.44606984995314647, 0.47699558863821845)"
      ]
     },
     "execution_count": 31,
     "metadata": {},
     "output_type": "execute_result"
    }
   ],
   "source": [
    "bootstrap(disney_df.mean_saturation)"
   ]
  },
  {
   "cell_type": "code",
   "execution_count": 32,
   "metadata": {},
   "outputs": [
    {
     "data": {
      "text/plain": [
       "(0.3809160086029047, 0.4151984483595519, 0.45042216318599304)"
      ]
     },
     "execution_count": 32,
     "metadata": {},
     "output_type": "execute_result"
    }
   ],
   "source": [
    "bootstrap(hayao_df.mean_saturation)"
   ]
  },
  {
   "cell_type": "markdown",
   "metadata": {},
   "source": [
    "The values of mean satuartion of disney pictures is apparently larger than hayao's. It shows that it's more possible for a picture to be from Disney Studio with higher satauration"
   ]
  },
  {
   "cell_type": "markdown",
   "metadata": {},
   "source": [
    "### 3.4 Value"
   ]
  },
  {
   "cell_type": "code",
   "execution_count": 33,
   "metadata": {},
   "outputs": [
    {
     "data": {
      "text/plain": [
       "<matplotlib.axes._subplots.AxesSubplot at 0x1ab54a9a278>"
      ]
     },
     "execution_count": 33,
     "metadata": {},
     "output_type": "execute_result"
    },
    {
     "data": {
      "image/png": "[encoded data removed]",
      "text/plain": [
       "<Figure size 432x288 with 1 Axes>"
      ]
     },
     "metadata": {
      "needs_background": "light"
     },
     "output_type": "display_data"
    }
   ],
   "source": [
    "disney_df.mean_value.hist(range = (0,1), density = True, color = 'pink')"
   ]
  },
  {
   "cell_type": "code",
   "execution_count": 34,
   "metadata": {},
   "outputs": [
    {
     "data": {
      "text/plain": [
       "<matplotlib.axes._subplots.AxesSubplot at 0x1ab54936860>"
      ]
     },
     "execution_count": 34,
     "metadata": {},
     "output_type": "execute_result"
    },
    {
     "data": {
      "image/png": "[encoded data removed]",
      "text/plain": [
       "<Figure size 432x288 with 1 Axes>"
      ]
     },
     "metadata": {
      "needs_background": "light"
     },
     "output_type": "display_data"
    }
   ],
   "source": [
    "hayao_df.mean_value.hist(range = (0,1),density = True)"
   ]
  },
  {
   "cell_type": "code",
   "execution_count": 36,
   "metadata": {},
   "outputs": [
    {
     "data": {
      "text/plain": [
       "(0.4955476931602786, 0.5266626172315388, 0.5554149012551444)"
      ]
     },
     "execution_count": 36,
     "metadata": {},
     "output_type": "execute_result"
    }
   ],
   "source": [
    "bootstrap(disney_df.mean_value)"
   ]
  },
  {
   "cell_type": "code",
   "execution_count": 37,
   "metadata": {},
   "outputs": [
    {
     "data": {
      "text/plain": [
       "(0.5531429742148872, 0.5861746523739747, 0.6197098872979893)"
      ]
     },
     "execution_count": 37,
     "metadata": {},
     "output_type": "execute_result"
    }
   ],
   "source": [
    "bootstrap(hayao_df.mean_value)"
   ]
  },
  {
   "cell_type": "markdown",
   "metadata": {},
   "source": [
    "The mean values of pictures from Hayao set are much larger than those from Disney. It is to say that the pictures from Hayao is more likely to have a higher mean value"
   ]
  },
  {
   "cell_type": "markdown",
   "metadata": {},
   "source": [
    "### 3.5 Entropy"
   ]
  },
  {
   "cell_type": "code",
   "execution_count": 38,
   "metadata": {},
   "outputs": [
    {
     "data": {
      "text/plain": [
       "<matplotlib.axes._subplots.AxesSubplot at 0x1ab54b88588>"
      ]
     },
     "execution_count": 38,
     "metadata": {},
     "output_type": "execute_result"
    },
    {
     "data": {
      "image/png": "[encoded data removed]",
      "text/plain": [
       "<Figure size 432x288 with 1 Axes>"
      ]
     },
     "metadata": {
      "needs_background": "light"
     },
     "output_type": "display_data"
    }
   ],
   "source": [
    "disney_df.mean_entropy.hist(range = (0,6),density = True, color = 'pink')"
   ]
  },
  {
   "cell_type": "code",
   "execution_count": 39,
   "metadata": {},
   "outputs": [
    {
     "data": {
      "text/plain": [
       "<matplotlib.axes._subplots.AxesSubplot at 0x1ab55bdf6a0>"
      ]
     },
     "execution_count": 39,
     "metadata": {},
     "output_type": "execute_result"
    },
    {
     "data": {
      "image/png": "[encoded data removed]",
      "text/plain": [
       "<Figure size 432x288 with 1 Axes>"
      ]
     },
     "metadata": {
      "needs_background": "light"
     },
     "output_type": "display_data"
    }
   ],
   "source": [
    "hayao_df.mean_entropy.hist(range = (0,6),density = True)"
   ]
  },
  {
   "cell_type": "code",
   "execution_count": 43,
   "metadata": {},
   "outputs": [
    {
     "data": {
      "text/plain": [
       "(4.240572329436668, 4.3601163189652095, 4.481373087527604)"
      ]
     },
     "execution_count": 43,
     "metadata": {},
     "output_type": "execute_result"
    }
   ],
   "source": [
    "bootstrap(disney_df.mean_entropy)"
   ]
  },
  {
   "cell_type": "code",
   "execution_count": 44,
   "metadata": {},
   "outputs": [
    {
     "data": {
      "text/plain": [
       "(4.207502520418425, 4.373622788817749, 4.526509702771563)"
      ]
     },
     "execution_count": 44,
     "metadata": {},
     "output_type": "execute_result"
    }
   ],
   "source": [
    "bootstrap(hayao_df.mean_entropy)"
   ]
  },
  {
   "cell_type": "markdown",
   "metadata": {},
   "source": [
    "The two groups of pictures share a rouhgly same mean entropy. It means that mean entropy might not be a feature with significant meaning."
   ]
  },
  {
   "cell_type": "markdown",
   "metadata": {},
   "source": [
    "### 3.6 Edges"
   ]
  },
  {
   "cell_type": "code",
   "execution_count": 45,
   "metadata": {},
   "outputs": [
    {
     "data": {
      "text/plain": [
       "<matplotlib.axes._subplots.AxesSubplot at 0x1ab55c521d0>"
      ]
     },
     "execution_count": 45,
     "metadata": {},
     "output_type": "execute_result"
    },
    {
     "data": {
      "image/png": "[encoded data removed]",
      "text/plain": [
       "<Figure size 432x288 with 1 Axes>"
      ]
     },
     "metadata": {
      "needs_background": "light"
     },
     "output_type": "display_data"
    }
   ],
   "source": [
    "disney_df.edge_sum.hist(range = (0,1.5),density = True, color = 'pink')"
   ]
  },
  {
   "cell_type": "code",
   "execution_count": 46,
   "metadata": {},
   "outputs": [
    {
     "data": {
      "text/plain": [
       "<matplotlib.axes._subplots.AxesSubplot at 0x1ab55cb0da0>"
      ]
     },
     "execution_count": 46,
     "metadata": {},
     "output_type": "execute_result"
    },
    {
     "data": {
      "image/png": "[encoded data removed]",
      "text/plain": [
       "<Figure size 432x288 with 1 Axes>"
      ]
     },
     "metadata": {
      "needs_background": "light"
     },
     "output_type": "display_data"
    }
   ],
   "source": [
    "hayao_df.edge_sum.hist(range = (0,1.5),density = True)"
   ]
  },
  {
   "cell_type": "code",
   "execution_count": 47,
   "metadata": {},
   "outputs": [
    {
     "data": {
      "text/plain": [
       "(0.5048678342946722, 0.533140548038868, 0.5617216838244802)"
      ]
     },
     "execution_count": 47,
     "metadata": {},
     "output_type": "execute_result"
    }
   ],
   "source": [
    "bootstrap(disney_df.edge_sum)"
   ]
  },
  {
   "cell_type": "code",
   "execution_count": 48,
   "metadata": {},
   "outputs": [
    {
     "data": {
      "text/plain": [
       "(0.5096039940039852, 0.5451134009773144, 0.5846290190430762)"
      ]
     },
     "execution_count": 48,
     "metadata": {},
     "output_type": "execute_result"
    }
   ],
   "source": [
    "bootstrap(hayao_df.edge_sum)"
   ]
  },
  {
   "cell_type": "markdown",
   "metadata": {},
   "source": [
    "The picutres of disney studio have a slightly smaller sum of edges which might show a little bit significance that might determine "
   ]
  }
 ],
 "metadata": {
  "kernelspec": {
   "display_name": "Python 3",
   "language": "python",
   "name": "python3"
  },
  "language_info": {
   "codemirror_mode": {
    "name": "ipython",
    "version": 3
   },
   "file_extension": ".py",
   "mimetype": "text/x-python",
   "name": "python",
   "nbconvert_exporter": "python",
   "pygments_lexer": "ipython3",
   "version": "3.7.3"
  }
 },
 "nbformat": 4,
 "nbformat_minor": 2
}
