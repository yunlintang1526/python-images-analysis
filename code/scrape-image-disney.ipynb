{
 "cells": [
  {
   "cell_type": "code",
   "execution_count": 1,
   "metadata": {},
   "outputs": [],
   "source": [
    "import re\n",
    "from collections import defaultdict\n",
    "import json\n",
    "import os\n",
    "import requests\n",
    "from bs4 import BeautifulSoup\n",
    "import urllib.request\n",
    "import pandas as pd"
   ]
  },
  {
   "cell_type": "code",
   "execution_count": 2,
   "metadata": {},
   "outputs": [],
   "source": [
    "cwd = os.getcwd()\n",
    "image_folder = os.path.join(cwd, 'images_disney')"
   ]
  },
  {
   "cell_type": "code",
   "execution_count": 3,
   "metadata": {},
   "outputs": [],
   "source": [
    "if not os.path.exists(image_folder):\n",
    "    os.mkdir(image_folder)"
   ]
  },
  {
   "cell_type": "code",
   "execution_count": 4,
   "metadata": {},
   "outputs": [],
   "source": [
    "def get_image_link(filtered):\n",
    "    for i in filtered:\n",
    "        result = i.find('p', attrs = {'class': ''}).text\n",
    "        #we only want movies directed by Hayao Miyazaki\n",
    "        year_x = i.find('span', attrs = {'class': 'lister-item-year text-muted unbold'}).text\n",
    "        year = int(re.findall('\\d+', year_x)[0])\n",
    "        print(year)\n",
    "        if year>1985:\n",
    "            poster_link = i.find('div', attrs = {'class': 'lister-item-image float-left'}).find('img')['loadlate']\n",
    "            images.append(poster_link)\n",
    "            sub_link = i.find('h3', attrs = {'class': 'lister-item-header'}).find('a').get('href')\n",
    "            l = 'https://www.imdb.com{sublink}?ref_=adv_li_i'.format(sublink = sub_link)\n",
    "            links.append(l)\n",
    "            r = requests.get(l)\n",
    "            d = r.content\n",
    "            f = BeautifulSoup(d).find('div', attrs = {'id': 'main_bottom'})\n",
    "            try:\n",
    "                storyline = f.find('div', attrs = {'class': 'inline canwrap'}).select('span')[0].text\n",
    "                stories.append(storyline)\n",
    "            except:\n",
    "                continue\n",
    "            img_links = f.find('div', attrs = {'class': 'mediastrip'}).find_all('a')\n",
    "            for s in img_links:\n",
    "                try:\n",
    "                    img = s.select('img')[0]['loadlate']\n",
    "                    images.append(img)\n",
    "                except:\n",
    "                    continue\n",
    "        else:\n",
    "            continue\n",
    "    \n",
    "    "
   ]
  },
  {
   "cell_type": "code",
   "execution_count": 5,
   "metadata": {},
   "outputs": [],
   "source": [
    "def get_next_page(data):\n",
    "    sub_page = BeautifulSoup(data).find('div', attrs = {'class': 'desc'}).find_all('a')[-1].get('href')\n",
    "    next_page = 'https://www.imdb.com{subpage}&ref_=adv_nxt'.format(subpage = sub_page)\n",
    "    return next_page"
   ]
  },
  {
   "cell_type": "code",
   "execution_count": 6,
   "metadata": {},
   "outputs": [
    {
     "name": "stdout",
     "output_type": "stream",
     "text": [
      "1928\n",
      "1933\n",
      "1937\n",
      "1937\n",
      "1940\n",
      "1940\n",
      "1941\n",
      "1942\n",
      "1942\n",
      "1944\n",
      "1946\n",
      "1946\n",
      "1947\n",
      "1948\n",
      "1949\n",
      "1950\n",
      "1951\n",
      "1953\n",
      "1955\n",
      "1959\n",
      "1961\n",
      "1963\n",
      "1967\n",
      "1970\n",
      "1973\n",
      "1977\n",
      "1977\n",
      "1981\n",
      "1982\n",
      "1983\n",
      "1985\n",
      "1986\n",
      "1988\n",
      "1989\n",
      "1989\n",
      "1990\n",
      "1991\n",
      "1992\n",
      "1994\n",
      "1995\n",
      "1995\n",
      "1996\n",
      "1997\n",
      "1998\n",
      "1999\n",
      "1999\n",
      "2000\n",
      "2000\n",
      "2000\n",
      "2001\n",
      "https://www.imdb.com/search/title/?companies=co0074039&sort=year,asc&start=51&ref_=adv_nxt\n",
      "2002\n",
      "2002\n",
      "2003\n",
      "2004\n",
      "2005\n",
      "2007\n",
      "2007\n",
      "2008\n",
      "2008\n",
      "2009\n",
      "2009\n",
      "2009\n",
      "2009\n",
      "2010\n",
      "2010\n",
      "2010\n",
      "2010\n",
      "2011\n",
      "2011\n",
      "2011\n",
      "2011\n",
      "2012\n",
      "2012\n",
      "2012\n",
      "2012\n",
      "2013\n",
      "2013\n",
      "2013\n",
      "2014\n",
      "2014\n",
      "2014\n",
      "2014\n",
      "2015\n",
      "2015\n",
      "2015\n",
      "2015\n",
      "2016\n",
      "2016\n",
      "2016\n",
      "2017\n",
      "2017\n",
      "2017\n",
      "2017\n",
      "2018\n",
      "2018\n",
      "2018\n",
      "2018\n",
      "2019\n",
      "2019\n",
      "2019\n"
     ]
    }
   ],
   "source": [
    "link = 'https://www.imdb.com/search/title/?companies=co0074039&sort=year,asc&ref_=adv_prv'\n",
    "images = []\n",
    "links = []\n",
    "pages = [link]\n",
    "stories = []\n",
    "resp = requests.get(link)\n",
    "data = resp.content\n",
    "filtered = BeautifulSoup(data).find_all('div', attrs = {'class': 'lister-item mode-advanced'})\n",
    "get_image_link(filtered)\n",
    "while len(images) <= 200:\n",
    "    link = get_next_page(data)\n",
    "    if link not in pages:\n",
    "        pages.append(link)\n",
    "        print(link)\n",
    "        resp = requests.get(link)\n",
    "        data = resp.content\n",
    "        filtered = BeautifulSoup(data).find_all('div', attrs = {'class': 'lister-item mode-advanced'})\n",
    "        get_image_link(filtered)\n",
    "    else:\n",
    "        break\n"
   ]
  },
  {
   "cell_type": "code",
   "execution_count": 7,
   "metadata": {},
   "outputs": [
    {
     "data": {
      "text/plain": [
       "410"
      ]
     },
     "execution_count": 7,
     "metadata": {},
     "output_type": "execute_result"
    }
   ],
   "source": [
    "len(images)"
   ]
  },
  {
   "cell_type": "code",
   "execution_count": 17,
   "metadata": {},
   "outputs": [
    {
     "data": {
      "text/plain": [
       "64"
      ]
     },
     "execution_count": 17,
     "metadata": {},
     "output_type": "execute_result"
    }
   ],
   "source": [
    "len(stories)"
   ]
  },
  {
   "cell_type": "code",
   "execution_count": null,
   "metadata": {},
   "outputs": [],
   "source": []
  },
  {
   "cell_type": "code",
   "execution_count": 18,
   "metadata": {},
   "outputs": [],
   "source": [
    "for i in range(len(stories)):\n",
    "    with open('storylines_disney.txt', 'a+') as fb:\n",
    "        fb.write(stories[i])"
   ]
  },
  {
   "cell_type": "code",
   "execution_count": 11,
   "metadata": {},
   "outputs": [],
   "source": [
    "for i in range(len(images)):\n",
    "    store_as = image_folder+'/'+str(i)+'.jpg'\n",
    "    img_data = requests.get(images[i]).content\n",
    "    with open(store_as, 'wb') as fb:\n",
    "        fb.write(img_data)"
   ]
  },
  {
   "cell_type": "code",
   "execution_count": null,
   "metadata": {},
   "outputs": [],
   "source": []
  },
  {
   "cell_type": "code",
   "execution_count": null,
   "metadata": {},
   "outputs": [],
   "source": []
  },
  {
   "cell_type": "code",
   "execution_count": null,
   "metadata": {},
   "outputs": [],
   "source": []
  },
  {
   "cell_type": "code",
   "execution_count": null,
   "metadata": {},
   "outputs": [],
   "source": []
  },
  {
   "cell_type": "code",
   "execution_count": null,
   "metadata": {},
   "outputs": [],
   "source": []
  },
  {
   "cell_type": "code",
   "execution_count": null,
   "metadata": {},
   "outputs": [],
   "source": []
  },
  {
   "cell_type": "code",
   "execution_count": null,
   "metadata": {},
   "outputs": [],
   "source": []
  }
 ],
 "metadata": {
  "kernelspec": {
   "display_name": "Python 3",
   "language": "python",
   "name": "python3"
  },
  "language_info": {
   "codemirror_mode": {
    "name": "ipython",
    "version": 3
   },
   "file_extension": ".py",
   "mimetype": "text/x-python",
   "name": "python",
   "nbconvert_exporter": "python",
   "pygments_lexer": "ipython3",
   "version": "3.7.3"
  }
 },
 "nbformat": 4,
 "nbformat_minor": 2
}
